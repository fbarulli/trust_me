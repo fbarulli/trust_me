{
 "cells": [
  {
   "cell_type": "code",
   "execution_count": 2,
   "metadata": {},
   "outputs": [
    {
     "name": "stderr",
     "output_type": "stream",
     "text": [
      "/usr/local/Caskroom/miniconda/base/envs/trust/lib/python3.12/site-packages/tqdm/auto.py:21: TqdmWarning: IProgress not found. Please update jupyter and ipywidgets. See https://ipywidgets.readthedocs.io/en/stable/user_install.html\n",
      "  from .autonotebook import tqdm as notebook_tqdm\n"
     ]
    }
   ],
   "source": [
    "import optuna\n",
    "from sklearn.pipeline import Pipeline\n",
    "from sklearn.base import BaseEstimator, TransformerMixin\n",
    "import pandas as pd\n",
    "import numpy as np\n",
    "from nltk.stem import PorterStemmer, WordNetLemmatizer\n",
    "from nltk.corpus import stopwords\n",
    "from sklearn.feature_extraction.text import TfidfVectorizer\n",
    "from sklearn.ensemble import GradientBoostingClassifier\n",
    "from sklearn.model_selection import train_test_split\n",
    "from sklearn.metrics import f1_score\n",
    "import re\n",
    "from scipy.sparse import csr_matrix\n",
    "import asyncio\n",
    "import nest_asyncio\n",
    "\n",
    "nest_asyncio.apply()"
   ]
  },
  {
   "cell_type": "code",
   "execution_count": null,
   "metadata": {},
   "outputs": [],
   "source": [
    "class TextPreprocessor(BaseEstimator, TransformerMixin):\n",
    "    def __init__(self, use_stem=False, use_lem=False, use_stop=False, use_regex=False):\n",
    "        self.use_stem = use_stem\n",
    "        self.use_lem = use_lem\n",
    "        self.use_stop = use_stop\n",
    "        self.use_regex = use_regex\n",
    "        self.stemmer = PorterStemmer()\n",
    "        self.lemmatizer = WordNetLemmatizer()\n",
    "        self.stop_words = set(stopwords.words('english'))\n",
    "\n",
    "    def fit(self, X, y=None):\n",
    "        return self\n",
    "\n",
    "    def transform(self, X):\n",
    "        texts = X.copy()\n",
    "        if self.use_regex:\n",
    "            texts = texts.str.lower()\n",
    "            texts = texts.apply(lambda x: re.sub(r'[^a-zA-Z\\s]', '', x))\n",
    "\n",
    "        def process_text(text):\n",
    "          words = text.split()\n",
    "          if self.use_stop:\n",
    "            words = [w for w in words if w not in self.stop_words]\n",
    "          if self.use_stem:\n",
    "            words = [self.stemmer.stem(w) for w in words]\n",
    "          if self.use_lem:\n",
    "            words = [self.lemmatizer.lemmatize(w) for w in words]\n",
    "          return \" \".join(words)\n",
    "        \n",
    "        texts = texts.apply(process_text)\n",
    "        return texts\n",
    "\n",
    "async def objective(trial, X_train, y_train, X_val, y_val, vectorizer):\n",
    "    preprocessing_config = {\n",
    "        'use_stem': trial.suggest_categorical('use_stem', [True, False]),\n",
    "        'use_lem': trial.suggest_categorical('use_lem', [True, False]),\n",
    "        'use_stop': trial.suggest_categorical('use_stop', [True, False]),\n",
    "        'use_regex': trial.suggest_categorical('use_regex', [True, False])\n",
    "    }\n",
    "\n",
    "    gb_config = {\n",
    "       'n_estimators': trial.suggest_int('n_estimators', 50, 300),\n",
    "       'learning_rate': trial.suggest_float('learning_rate', 0.01, 1.0, log=True),\n",
    "       'max_depth': trial.suggest_int('max_depth', 1, 7),\n",
    "       'min_samples_split': trial.suggest_int('min_samples_split', 2, 150),\n",
    "       'min_samples_leaf': trial.suggest_int('min_samples_leaf', 1, 60),\n",
    "       'validation_fraction': 0.1,\n",
    "        'n_iter_no_change': 5,\n",
    "        'tol': 0.01\n",
    "   }\n",
    "    \n",
    "    preprocessor = TextPreprocessor(**preprocessing_config)\n",
    "    X_train_processed = preprocessor.fit_transform(X_train)\n",
    "    X_val_processed = preprocessor.transform(X_val)\n",
    "\n",
    "    X_train_vectorized = vectorizer.fit_transform(X_train_processed)\n",
    "    X_val_vectorized = vectorizer.transform(X_val_processed)\n",
    "\n",
    "    pipeline = Pipeline([\n",
    "    ('classifier', GradientBoostingClassifier(random_state=42))\n",
    "    ])\n",
    "\n",
    "    pipeline.set_params(classifier = GradientBoostingClassifier(**gb_config))\n",
    "    pipeline.fit(X_train_vectorized, y_train)\n",
    "    y_pred = pipeline.predict(X_val_vectorized)\n",
    "    return f1_score(y_val, y_pred, average='weighted')\n",
    "\n",
    "\n",
    "async def run_study(study, objective, n_trials):\n",
    "  tasks = [asyncio.create_task(study.optimize(objective, n_trials=1)) for _ in range(n_trials)]\n",
    "  await asyncio.gather(*tasks)\n",
    "\n",
    "async def main():\n",
    "    \n",
    "    df = pd.read_csv('text.csv')\n",
    "    df.drop(['Unnamed: 0', \"company\", \"review\"], axis=1, inplace=True)\n",
    "\n",
    "    \n",
    "    df['text'] = df['text'].astype(str)\n",
    "    df['rating'] = df['rating'].astype(int)\n",
    "\n",
    "    X_temp, X_test, y_temp, y_test = train_test_split(df['text'], df['rating'], test_size=0.2, random_state=42, stratify = df['rating'])\n",
    "    X_train, X_val, y_train, y_val = train_test_split(X_temp, y_temp, test_size=0.2, random_state=42, stratify = y_temp)\n",
    "\n",
    "    \n",
    "    vectorizer_config = {\n",
    "        'max_features': 10000, \n",
    "        'ngram_range': (1,2)\n",
    "    }\n",
    "    vectorizer = TfidfVectorizer(**vectorizer_config)\n",
    "\n",
    "\n",
    "    \n",
    "    study = optuna.create_study(direction='maximize')\n",
    "    objective_with_data = lambda trial: objective(trial, X_train, y_train, X_val, y_val, vectorizer)\n",
    "    await run_study(study, objective_with_data, n_trials = 50)\n",
    "\n",
    "    print(\"Best trial:\")\n",
    "    print(\"  Value: \", study.best_trial.value)\n",
    "    print(\"  Params: \")\n",
    "    for key, value in study.best_trial.params.items():\n",
    "        print(f\"    {key}: {value}\")\n",
    "\n",
    "if __name__ == \"__main__\":\n",
    "    asyncio.run(main())"
   ]
  },
  {
   "cell_type": "code",
   "execution_count": null,
   "metadata": {},
   "outputs": [],
   "source": []
  },
  {
   "cell_type": "code",
   "execution_count": null,
   "metadata": {},
   "outputs": [],
   "source": []
  },
  {
   "cell_type": "code",
   "execution_count": null,
   "metadata": {},
   "outputs": [],
   "source": []
  },
  {
   "cell_type": "code",
   "execution_count": null,
   "metadata": {},
   "outputs": [],
   "source": []
  },
  {
   "cell_type": "code",
   "execution_count": null,
   "metadata": {},
   "outputs": [],
   "source": []
  },
  {
   "cell_type": "code",
   "execution_count": null,
   "metadata": {},
   "outputs": [],
   "source": []
  },
  {
   "cell_type": "code",
   "execution_count": null,
   "metadata": {},
   "outputs": [],
   "source": []
  },
  {
   "cell_type": "code",
   "execution_count": null,
   "metadata": {},
   "outputs": [],
   "source": []
  },
  {
   "cell_type": "code",
   "execution_count": null,
   "metadata": {},
   "outputs": [],
   "source": []
  },
  {
   "cell_type": "code",
   "execution_count": null,
   "metadata": {},
   "outputs": [],
   "source": []
  },
  {
   "cell_type": "code",
   "execution_count": null,
   "metadata": {},
   "outputs": [],
   "source": []
  },
  {
   "cell_type": "code",
   "execution_count": null,
   "metadata": {},
   "outputs": [],
   "source": []
  },
  {
   "cell_type": "code",
   "execution_count": null,
   "metadata": {},
   "outputs": [],
   "source": []
  },
  {
   "cell_type": "code",
   "execution_count": null,
   "metadata": {},
   "outputs": [],
   "source": []
  },
  {
   "cell_type": "code",
   "execution_count": null,
   "metadata": {},
   "outputs": [],
   "source": []
  }
 ],
 "metadata": {
  "kernelspec": {
   "display_name": "trust",
   "language": "python",
   "name": "python3"
  },
  "language_info": {
   "codemirror_mode": {
    "name": "ipython",
    "version": 3
   },
   "file_extension": ".py",
   "mimetype": "text/x-python",
   "name": "python",
   "nbconvert_exporter": "python",
   "pygments_lexer": "ipython3",
   "version": "3.12.8"
  }
 },
 "nbformat": 4,
 "nbformat_minor": 2
}
