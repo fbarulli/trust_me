{
 "cells": [
  {
   "cell_type": "code",
   "execution_count": 1,
   "metadata": {},
   "outputs": [],
   "source": [
    "from sklearn.pipeline import Pipeline\n",
    "from sklearn.base import BaseEstimator, TransformerMixin\n",
    "import pandas as pd\n",
    "import numpy as np \n",
    "from nltk.stem import PorterStemmer, WordNetLemmatizer\n",
    "from nltk.corpus import stopwords\n",
    "from sklearn.feature_extraction.text import TfidfVectorizer\n",
    "from sklearn.ensemble import GradientBoostingClassifier\n",
    "from sklearn.model_selection import train_test_split\n",
    "from sklearn.metrics import f1_score, classification_report\n",
    "import re\n",
    "import emoji\n",
    "\n"
   ]
  },
  {
   "cell_type": "code",
   "execution_count": 2,
   "metadata": {},
   "outputs": [],
   "source": [
    "df = pd.read_csv('/Users/notagain/Desktop/Trust_pilot-1/fabian/NLP/text.csv')\n",
    "\n"
   ]
  },
  {
   "cell_type": "code",
   "execution_count": 3,
   "metadata": {},
   "outputs": [],
   "source": [
    "from sklearn.pipeline import Pipeline\n",
    "from sklearn.base import BaseEstimator, TransformerMixin\n",
    "import pandas as pd\n",
    "import numpy as np \n",
    "from nltk.stem import PorterStemmer, WordNetLemmatizer\n",
    "from nltk.corpus import stopwords\n",
    "from sklearn.feature_extraction.text import TfidfVectorizer\n",
    "from sklearn.ensemble import GradientBoostingClassifier\n",
    "from sklearn.model_selection import train_test_split\n",
    "from sklearn.metrics import f1_score, classification_report\n",
    "import re\n",
    "import emoji\n",
    "\n",
    "\n",
    "\n",
    "def remove_emojis(text: str) -> str:\n",
    "    emoji_set = set(e['emoji'] for e in emoji.emoji_list(text))\n",
    "    return ''.join(c for c in text if c not in emoji_set)\n",
    "\n",
    "\n",
    "class TextPreprocessor(BaseEstimator, TransformerMixin):\n",
    "   def __init__(self, use_stem=False, use_lem=False, use_stop=False, use_regex=False):\n",
    "       self.use_stem = use_stem \n",
    "       self.use_lem = use_lem\n",
    "       self.use_stop = use_stop\n",
    "       self.use_regex = use_regex\n",
    "       self.stemmer = PorterStemmer()\n",
    "       self.lemmatizer = WordNetLemmatizer()\n",
    "       self.stop_words = set(stopwords.words('english'))\n",
    "       \n",
    "   def fit(self, X, y=None):\n",
    "       return self\n",
    "       \n",
    "   def transform(self, X):\n",
    "       texts = X.copy()\n",
    "       if self.use_regex:\n",
    "           texts = texts.str.lower()\n",
    "           texts = texts.apply(lambda x: re.sub(r'[^a-zA-Z\\s]', '', x))\n",
    "           \n",
    "       if self.use_stop:\n",
    "           texts = texts.apply(lambda x: ' '.join([w for w in x.split() if w not in self.stop_words]))\n",
    "           \n",
    "       if self.use_stem:\n",
    "           texts = texts.apply(lambda x: ' '.join([self.stemmer.stem(w) for w in x.split()]))\n",
    "           \n",
    "       if self.use_lem:\n",
    "           texts = texts.apply(lambda x: ' '.join([self.lemmatizer.lemmatize(w) for w in x.split()]))\n",
    "           \n",
    "       return texts\n",
    "\n",
    "pipeline_configs = [\n",
    "   {'use_stem': False, 'use_lem': False, 'use_stop': False, 'use_regex': False},\n",
    "   {'use_stem': True, 'use_lem': False, 'use_stop': False, 'use_regex': False}, \n",
    "   {'use_stem': False, 'use_lem': True, 'use_stop': False, 'use_regex': False},\n",
    "   {'use_stem': False, 'use_lem': False, 'use_stop': True, 'use_regex': True},\n",
    "   {'use_stem': True, 'use_lem': True, 'use_stop': True, 'use_regex': True}\n",
    "]\n",
    "\n",
    "results = {}\n",
    "\n",
    "for config in pipeline_configs:\n",
    "   pipeline = Pipeline([\n",
    "       ('preprocessor', TextPreprocessor(**config)),\n",
    "       ('vectorizer', TfidfVectorizer(max_features=10000)),\n",
    "       ('classifier', GradientBoostingClassifier(n_estimators=100, learning_rate=0.1))\n",
    "   ])\n",
    "   \n",
    "   X_train, X_test, y_train, y_test = train_test_split(df['text'], df['rating'], test_size=0.2, random_state=42)\n",
    "   pipeline.fit(X_train, y_train)\n",
    "   y_pred = pipeline.predict(X_test)\n",
    "   \n",
    "   results[str(config)] = {\n",
    "       'f1': f1_score(y_test, y_pred, average='weighted'),\n",
    "       'report': classification_report(y_test, y_pred)\n",
    "   }\n",
    "\n",
    "for config, result in results.items():\n",
    "   print(f\"\\nConfig: {config}\")\n",
    "   print(f\"F1 Score: {result['f1']}\")\n",
    "   print(f\"Report:\\n{result['report']}\")"
   ]
  },
  {
   "cell_type": "code",
   "execution_count": null,
   "metadata": {},
   "outputs": [],
   "source": []
  },
  {
   "cell_type": "code",
   "execution_count": null,
   "metadata": {},
   "outputs": [],
   "source": []
  },
  {
   "cell_type": "code",
   "execution_count": null,
   "metadata": {},
   "outputs": [],
   "source": []
  },
  {
   "cell_type": "code",
   "execution_count": null,
   "metadata": {},
   "outputs": [],
   "source": []
  },
  {
   "cell_type": "code",
   "execution_count": null,
   "metadata": {},
   "outputs": [],
   "source": []
  },
  {
   "cell_type": "code",
   "execution_count": null,
   "metadata": {},
   "outputs": [],
   "source": []
  },
  {
   "cell_type": "code",
   "execution_count": null,
   "metadata": {},
   "outputs": [],
   "source": []
  },
  {
   "cell_type": "code",
   "execution_count": null,
   "metadata": {},
   "outputs": [],
   "source": []
  },
  {
   "cell_type": "code",
   "execution_count": null,
   "metadata": {},
   "outputs": [],
   "source": []
  },
  {
   "cell_type": "code",
   "execution_count": null,
   "metadata": {},
   "outputs": [],
   "source": []
  },
  {
   "cell_type": "code",
   "execution_count": null,
   "metadata": {},
   "outputs": [],
   "source": []
  },
  {
   "cell_type": "code",
   "execution_count": null,
   "metadata": {},
   "outputs": [],
   "source": []
  }
 ],
 "metadata": {
  "kernelspec": {
   "display_name": "trust",
   "language": "python",
   "name": "python3"
  },
  "language_info": {
   "codemirror_mode": {
    "name": "ipython",
    "version": 3
   },
   "file_extension": ".py",
   "mimetype": "text/x-python",
   "name": "python",
   "nbconvert_exporter": "python",
   "pygments_lexer": "ipython3",
   "version": "3.12.8"
  }
 },
 "nbformat": 4,
 "nbformat_minor": 2
}
