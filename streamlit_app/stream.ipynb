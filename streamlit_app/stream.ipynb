{
 "cells": [
  {
   "cell_type": "code",
   "execution_count": 1,
   "metadata": {},
   "outputs": [
    {
     "name": "stdout",
     "output_type": "stream",
     "text": [
      "/Users/notagain/Desktop/Trust_pilot-1/streamlit_app\n"
     ]
    }
   ],
   "source": [
    "import os\n",
    "print(os.getcwd())"
   ]
  },
  {
   "cell_type": "code",
   "execution_count": 2,
   "metadata": {},
   "outputs": [
    {
     "name": "stdout",
     "output_type": "stream",
     "text": [
      "\u001b[0m\n",
      "\u001b[34m\u001b[1m  You can now view your Streamlit app in your browser.\u001b[0m\n",
      "\u001b[0m\n",
      "\u001b[34m  Local URL: \u001b[0m\u001b[1mhttp://localhost:8501\u001b[0m\n",
      "\u001b[34m  Network URL: \u001b[0m\u001b[1mhttp://192.168.0.115:8501\u001b[0m\n",
      "\u001b[0m\n",
      "\u001b[34m\u001b[1m  For better performance, install the Watchdog module:\u001b[0m\n",
      "\n",
      "  $ xcode-select --install\n",
      "  $ pip install watchdog\n",
      "            \u001b[0m\n",
      "Streamlit Script Working Directory: /Users/notagain/Desktop/Trust_pilot-1/streamlit_app\n",
      "Python Path (inside stream.py - after path modification): ['/Users/notagain/Desktop/Trust_pilot-1/streamlit_app', '/Users/notagain/Desktop/Trust_pilot-1/streamlit_app', 'stream.py', '', '/usr/local/Caskroom/miniconda/base/envs/trust/bin', '/usr/local/Caskroom/miniconda/base/envs/trust/lib/python312.zip', '/usr/local/Caskroom/miniconda/base/envs/trust/lib/python3.12', '/usr/local/Caskroom/miniconda/base/envs/trust/lib/python3.12/lib-dynload', '/usr/local/Caskroom/miniconda/base/envs/trust/lib/python3.12/site-packages']\n",
      "CSV File Path (stream.py): /Users/notagain/Desktop/Trust_pilot-1/streamlit_app/trustpilot_reviews_1000.csv\n",
      "Attempting to load CSV data...\n",
      "CSV data loaded successfully.\n",
      "Selected section: Intro\n",
      "Displaying random sample of reviews...\n",
      "CSV File Path (stream.py): /Users/notagain/Desktop/Trust_pilot-1/streamlit_app/trustpilot_reviews_1000.csv\n",
      "Streamlit Script Working Directory: /Users/notagain/Desktop/Trust_pilot-1/streamlit_app\n",
      "Python Path (inside stream.py): ['/Users/notagain/Desktop/Trust_pilot-1/streamlit_app', '/Users/notagain/Desktop/Trust_pilot-1/streamlit_app', 'stream.py', '', '/usr/local/Caskroom/miniconda/base/envs/trust/bin', '/usr/local/Caskroom/miniconda/base/envs/trust/lib/python312.zip', '/usr/local/Caskroom/miniconda/base/envs/trust/lib/python3.12', '/usr/local/Caskroom/miniconda/base/envs/trust/lib/python3.12/lib-dynload', '/usr/local/Caskroom/miniconda/base/envs/trust/lib/python3.12/site-packages']\n",
      "Attempting to load CSV data...\n",
      "CSV data loaded successfully.\n",
      "Selected section: Intro\n",
      "Displaying random sample of reviews...\n",
      "CSV File Path (stream.py): /Users/notagain/Desktop/Trust_pilot-1/streamlit_app/trustpilot_reviews_1000.csv\n",
      "Streamlit Script Working Directory: /Users/notagain/Desktop/Trust_pilot-1/streamlit_app\n",
      "Python Path (inside stream.py): ['/Users/notagain/Desktop/Trust_pilot-1/streamlit_app', 'stream.py', '/Users/notagain/Desktop/Trust_pilot-1/streamlit_app', '/Users/notagain/Desktop/Trust_pilot-1/streamlit_app', '', '/usr/local/Caskroom/miniconda/base/envs/trust/bin', '/usr/local/Caskroom/miniconda/base/envs/trust/lib/python312.zip', '/usr/local/Caskroom/miniconda/base/envs/trust/lib/python3.12', '/usr/local/Caskroom/miniconda/base/envs/trust/lib/python3.12/lib-dynload', '/usr/local/Caskroom/miniconda/base/envs/trust/lib/python3.12/site-packages']\n",
      "Attempting to load CSV data...\n",
      "CSV data loaded successfully.\n",
      "Selected section: Intro\n",
      "Displaying random sample of reviews...\n",
      "CSV File Path (stream.py): /Users/notagain/Desktop/Trust_pilot-1/streamlit_app/trustpilot_reviews_1000.csv\n",
      "Streamlit Script Working Directory: /Users/notagain/Desktop/Trust_pilot-1/streamlit_app\n",
      "Python Path (inside stream.py): ['/Users/notagain/Desktop/Trust_pilot-1/streamlit_app', 'stream.py', '/Users/notagain/Desktop/Trust_pilot-1/streamlit_app', '/Users/notagain/Desktop/Trust_pilot-1/streamlit_app', '/Users/notagain/Desktop/Trust_pilot-1/streamlit_app', '', '/usr/local/Caskroom/miniconda/base/envs/trust/bin', '/usr/local/Caskroom/miniconda/base/envs/trust/lib/python312.zip', '/usr/local/Caskroom/miniconda/base/envs/trust/lib/python3.12', '/usr/local/Caskroom/miniconda/base/envs/trust/lib/python3.12/lib-dynload', '/usr/local/Caskroom/miniconda/base/envs/trust/lib/python3.12/site-packages']\n",
      "Attempting to load CSV data...\n",
      "CSV data loaded successfully.\n",
      "Selected section: Scraping\n",
      "Navigating to Scraping section...\n",
      "2025-02-23 17:32:00.514 Uncaught app execution\n",
      "Traceback (most recent call last):\n",
      "  File \"/usr/local/Caskroom/miniconda/base/envs/trust/lib/python3.12/site-packages/streamlit/runtime/scriptrunner/exec_code.py\", line 121, in exec_func_with_error_handling\n",
      "    result = func()\n",
      "             ^^^^^^\n",
      "  File \"/usr/local/Caskroom/miniconda/base/envs/trust/lib/python3.12/site-packages/streamlit/runtime/scriptrunner/script_runner.py\", line 591, in code_to_exec\n",
      "    exec(code, module.__dict__)\n",
      "  File \"/Users/notagain/Desktop/Trust_pilot-1/streamlit_app/stream.py\", line 101, in <module>\n",
      "    main()\n",
      "  File \"/Users/notagain/Desktop/Trust_pilot-1/streamlit_app/stream.py\", line 84, in main\n",
      "    scraping_section.show_scraping_section() # Call function from scraping_section.py, **NO** passing df and DATA_LOADED\n",
      "    ^^^^^^^^^^^^^^^^^^^^^^^^^^^^^^^^^^^^^^\n",
      "AttributeError: module 'scraping_section' has no attribute 'show_scraping_section'. Did you mean: 'scraping_section'?\n",
      "^C\n",
      "\u001b[34m  Stopping...\u001b[0m\n",
      "Exception ignored in: <module 'threading' from '/usr/local/Caskroom/miniconda/base/envs/trust/lib/python3.12/threading.py'>\n",
      "Traceback (most recent call last):\n",
      "  File \"/usr/local/Caskroom/miniconda/base/envs/trust/lib/python3.12/threading.py\", line 1594, in _shutdown\n",
      "    atexit_call()\n",
      "  File \"/usr/local/Caskroom/miniconda/base/envs/trust/lib/python3.12/concurrent/futures/thread.py\", line 31, in _python_exit\n",
      "    t.join()\n",
      "  File \"/usr/local/Caskroom/miniconda/base/envs/trust/lib/python3.12/threading.py\", line 1149, in join\n",
      "    self._wait_for_tstate_lock()\n",
      "  File \"/usr/local/Caskroom/miniconda/base/envs/trust/lib/python3.12/threading.py\", line 1169, in _wait_for_tstate_lock\n",
      "    if lock.acquire(block, timeout):\n",
      "       ^^^^^^^^^^^^^^^^^^^^^^^^^^^^\n",
      "  File \"/usr/local/Caskroom/miniconda/base/envs/trust/lib/python3.12/site-packages/streamlit/web/bootstrap.py\", line 44, in signal_handler\n",
      "    server.stop()\n",
      "  File \"/usr/local/Caskroom/miniconda/base/envs/trust/lib/python3.12/site-packages/streamlit/web/server/server.py\", line 470, in stop\n",
      "    self._runtime.stop()\n",
      "  File \"/usr/local/Caskroom/miniconda/base/envs/trust/lib/python3.12/site-packages/streamlit/runtime/runtime.py\", line 337, in stop\n",
      "    async_objs.eventloop.call_soon_threadsafe(stop_on_eventloop)\n",
      "  File \"/usr/local/Caskroom/miniconda/base/envs/trust/lib/python3.12/asyncio/base_events.py\", line 839, in call_soon_threadsafe\n",
      "    self._check_closed()\n",
      "  File \"/usr/local/Caskroom/miniconda/base/envs/trust/lib/python3.12/asyncio/base_events.py\", line 540, in _check_closed\n",
      "    raise RuntimeError('Event loop is closed')\n",
      "RuntimeError: Event loop is closed\n"
     ]
    }
   ],
   "source": [
    "! streamlit run stream.py"
   ]
  },
  {
   "cell_type": "code",
   "execution_count": null,
   "metadata": {},
   "outputs": [],
   "source": []
  }
 ],
 "metadata": {
  "kernelspec": {
   "display_name": "trust",
   "language": "python",
   "name": "python3"
  },
  "language_info": {
   "codemirror_mode": {
    "name": "ipython",
    "version": 3
   },
   "file_extension": ".py",
   "mimetype": "text/x-python",
   "name": "python",
   "nbconvert_exporter": "python",
   "pygments_lexer": "ipython3",
   "version": "3.12.8"
  }
 },
 "nbformat": 4,
 "nbformat_minor": 2
}
