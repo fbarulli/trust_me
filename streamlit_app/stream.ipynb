{
 "cells": [
  {
   "cell_type": "code",
   "execution_count": 5,
   "metadata": {},
   "outputs": [
    {
     "name": "stdout",
     "output_type": "stream",
     "text": [
      "/Users/notagain/Desktop/Trust_pilot-1/streamlit_app\n"
     ]
    }
   ],
   "source": [
    "import os\n",
    "print(os.getcwd())"
   ]
  },
  {
   "cell_type": "code",
   "execution_count": 6,
   "metadata": {},
   "outputs": [
    {
     "name": "stdout",
     "output_type": "stream",
     "text": [
      "\u001b[0m\n",
      "\u001b[34m\u001b[1m  You can now view your Streamlit app in your browser.\u001b[0m\n",
      "\u001b[0m\n",
      "\u001b[34m  Local URL: \u001b[0m\u001b[1mhttp://localhost:8501\u001b[0m\n",
      "\u001b[34m  Network URL: \u001b[0m\u001b[1mhttp://192.168.0.115:8501\u001b[0m\n",
      "\u001b[0m\n",
      "\u001b[34m\u001b[1m  For better performance, install the Watchdog module:\u001b[0m\n",
      "\n",
      "  $ xcode-select --install\n",
      "  $ pip install watchdog\n",
      "            \u001b[0m\n",
      "2025-02-23 17:43:20,378 - INFO - stream - main: Starting\n",
      "2025-02-23 17:43:20,379 - INFO - stream - load_csv_data: Starting\n",
      "2025-02-23 17:43:20,561 - INFO - stream - load_csv_data: CSV data loaded successfully.\n",
      "2025-02-23 17:43:20,561 - INFO - stream - load_csv_data: Finished\n",
      "2025-02-23 17:43:20,668 - INFO - stream - display_intro_section: Starting\n",
      "2025-02-23 17:43:20,677 - INFO - stream - display_intro_section: Finished\n",
      "2025-02-23 17:43:20,677 - INFO - stream - main: Finished\n",
      "2025-02-23 17:43:23,198 - INFO - stream - main: Starting\n",
      "2025-02-23 17:43:23,199 - INFO - stream - load_csv_data: Starting\n",
      "2025-02-23 17:43:23,417 - INFO - stream - load_csv_data: CSV data loaded successfully.\n",
      "2025-02-23 17:43:23,417 - INFO - stream - load_csv_data: Finished\n",
      "2025-02-23 17:43:23,418 - INFO - stream - main: Navigating to Scraping section...\n",
      "2025-02-23 17:43:23,418 - ERROR - stream - main: show_scraping_section NOT found in scraping_section module!\n",
      "2025-02-23 17:43:23,418 - INFO - stream - main: Finished\n",
      "^C\n",
      "\u001b[34m  Stopping...\u001b[0m\n",
      "Exception ignored in: <module 'threading' from '/usr/local/Caskroom/miniconda/base/envs/trust/lib/python3.12/threading.py'>\n",
      "Traceback (most recent call last):\n",
      "  File \"/usr/local/Caskroom/miniconda/base/envs/trust/lib/python3.12/threading.py\", line 1594, in _shutdown\n",
      "    atexit_call()\n",
      "  File \"/usr/local/Caskroom/miniconda/base/envs/trust/lib/python3.12/concurrent/futures/thread.py\", line 31, in _python_exit\n",
      "    t.join()\n",
      "  File \"/usr/local/Caskroom/miniconda/base/envs/trust/lib/python3.12/threading.py\", line 1149, in join\n",
      "    self._wait_for_tstate_lock()\n",
      "  File \"/usr/local/Caskroom/miniconda/base/envs/trust/lib/python3.12/threading.py\", line 1169, in _wait_for_tstate_lock\n",
      "    if lock.acquire(block, timeout):\n",
      "       ^^^^^^^^^^^^^^^^^^^^^^^^^^^^\n",
      "  File \"/usr/local/Caskroom/miniconda/base/envs/trust/lib/python3.12/site-packages/streamlit/web/bootstrap.py\", line 44, in signal_handler\n",
      "    server.stop()\n",
      "  File \"/usr/local/Caskroom/miniconda/base/envs/trust/lib/python3.12/site-packages/streamlit/web/server/server.py\", line 470, in stop\n",
      "    self._runtime.stop()\n",
      "  File \"/usr/local/Caskroom/miniconda/base/envs/trust/lib/python3.12/site-packages/streamlit/runtime/runtime.py\", line 337, in stop\n",
      "    async_objs.eventloop.call_soon_threadsafe(stop_on_eventloop)\n",
      "  File \"/usr/local/Caskroom/miniconda/base/envs/trust/lib/python3.12/asyncio/base_events.py\", line 839, in call_soon_threadsafe\n",
      "    self._check_closed()\n",
      "  File \"/usr/local/Caskroom/miniconda/base/envs/trust/lib/python3.12/asyncio/base_events.py\", line 540, in _check_closed\n",
      "    raise RuntimeError('Event loop is closed')\n",
      "RuntimeError: Event loop is closed\n"
     ]
    }
   ],
   "source": [
    "! streamlit run stream.py"
   ]
  },
  {
   "cell_type": "code",
   "execution_count": null,
   "metadata": {},
   "outputs": [],
   "source": []
  }
 ],
 "metadata": {
  "kernelspec": {
   "display_name": "trust",
   "language": "python",
   "name": "python3"
  },
  "language_info": {
   "codemirror_mode": {
    "name": "ipython",
    "version": 3
   },
   "file_extension": ".py",
   "mimetype": "text/x-python",
   "name": "python",
   "nbconvert_exporter": "python",
   "pygments_lexer": "ipython3",
   "version": "3.12.8"
  }
 },
 "nbformat": 4,
 "nbformat_minor": 2
}
